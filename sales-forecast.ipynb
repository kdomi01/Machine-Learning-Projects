{
 "cells": [
  {
   "cell_type": "markdown",
   "id": "0d4d4880-7eb4-4824-9373-8a0526f77a77",
   "metadata": {},
   "source": [
    "# Sales prediction project\n",
    "The aim is to forecast store sales for many products on data from Corporación Favorita, a large Ecuadorian-based grocery retailer."
   ]
  },
  {
   "cell_type": "markdown",
   "id": "44c6690f-1800-4d42-8b9d-cf0811dfc5b3",
   "metadata": {},
   "source": [
    "# 1. Problem definition\n",
    "This will be a time series regression problem, since a number needs to be predicted and a time period is given."
   ]
  },
  {
   "cell_type": "markdown",
   "id": "019f2eb3-9e78-4e2e-b13d-bc1610f08657",
   "metadata": {},
   "source": [
    "# 2. General information on the data\n",
    "The dataset is composed of various smaller datasets: train.csv, test.csv, holidays-events.csv, oil.csv, stores.csv and transactions.csv, and it is taken from Kaggle: https://www.kaggle.com/competitions/store-sales-time-series-forecasting/data.\n",
    "\n",
    "Now for a description of the smaller datasets:\n",
    "\n",
    "train.csv - training data, is composed of the time series features store_nbr (store where products are sold), family (type of product sold), onpromotion (total number of items in a product family that were being promoted at a store at a given date) and sales(total sales for a product family at a particular store at a given date).\n",
    "\n",
    "test.csv - test data, has the same features as train.csv\n",
    "\n",
    "stores.csv - store metadata\n",
    "\n",
    "oil.csv - daily oil price (affects the economy a lot)\n",
    "\n",
    "holidays_events.csv - holidays and events metadata\n",
    "\n",
    "transactions.csv - transactions conducted at a given date and store"
   ]
  },
  {
   "cell_type": "markdown",
   "id": "02568983-65ba-4d9d-a404-72d3df931a9c",
   "metadata": {},
   "source": [
    "# 3. Exploratory Data Analysis (EDA) and Preprocessing"
   ]
  },
  {
   "cell_type": "code",
   "execution_count": 1,
   "id": "af9a5868-97c5-49c7-8ef5-b60e9caed6c8",
   "metadata": {},
   "outputs": [],
   "source": [
    "# Importing the necessary tools\n",
    "import pandas as pd \n",
    "import numpy as np\n",
    "import matplotlib.pyplot as plt\n",
    "import seaborn as sns\n",
    "from sklearn.metrics import mean_squared_log_error # The evaluation metric\n",
    "from sklearn.model_selection import train_test_split, RandomizedSearchCV, GridSearchCV\n",
    "from sklearn.linear_model import SGDRegressor\n",
    "from sklearn.preprocessing import LabelEncoder"
   ]
  },
  {
   "cell_type": "code",
   "execution_count": 2,
   "id": "30d7c051-7667-439d-9ba9-2b2e9a58d26d",
   "metadata": {},
   "outputs": [],
   "source": [
    "# Creating the necessary DataFrames\n",
    "train = pd.read_csv(\"data/train.csv\")\n",
    "test = pd.read_csv(\"data/test.csv\")"
   ]
  },
  {
   "cell_type": "code",
   "execution_count": 3,
   "id": "6a8ad6f5-08c4-4587-a0b6-56a6d3af9f82",
   "metadata": {},
   "outputs": [],
   "source": [
    "# Exploring the datasets\n",
    "datasets = {\"train\":train,\n",
    "            \"test\":test}"
   ]
  },
  {
   "cell_type": "code",
   "execution_count": 4,
   "id": "22e3fc55-933c-4b32-bc23-85a4db053a4e",
   "metadata": {},
   "outputs": [
    {
     "name": "stdout",
     "output_type": "stream",
     "text": [
      "Summary for train DataFrame:\n",
      "   id        date  store_nbr      family  sales  onpromotion\n",
      "0   0  2013-01-01          1  AUTOMOTIVE    0.0            0\n",
      "1   1  2013-01-01          1   BABY CARE    0.0            0\n",
      "2   2  2013-01-01          1      BEAUTY    0.0            0\n",
      "3   3  2013-01-01          1   BEVERAGES    0.0            0\n",
      "4   4  2013-01-01          1       BOOKS    0.0            0\n",
      "<class 'pandas.core.frame.DataFrame'>\n",
      "RangeIndex: 3000888 entries, 0 to 3000887\n",
      "Data columns (total 6 columns):\n",
      " #   Column       Dtype  \n",
      "---  ------       -----  \n",
      " 0   id           int64  \n",
      " 1   date         object \n",
      " 2   store_nbr    int64  \n",
      " 3   family       object \n",
      " 4   sales        float64\n",
      " 5   onpromotion  int64  \n",
      "dtypes: float64(1), int64(3), object(2)\n",
      "memory usage: 137.4+ MB\n",
      "None\n",
      "                 id     store_nbr         sales   onpromotion\n",
      "count  3.000888e+06  3.000888e+06  3.000888e+06  3.000888e+06\n",
      "mean   1.500444e+06  2.750000e+01  3.577757e+02  2.602770e+00\n",
      "std    8.662819e+05  1.558579e+01  1.101998e+03  1.221888e+01\n",
      "min    0.000000e+00  1.000000e+00  0.000000e+00  0.000000e+00\n",
      "25%    7.502218e+05  1.400000e+01  0.000000e+00  0.000000e+00\n",
      "50%    1.500444e+06  2.750000e+01  1.100000e+01  0.000000e+00\n",
      "75%    2.250665e+06  4.100000e+01  1.958473e+02  0.000000e+00\n",
      "max    3.000887e+06  5.400000e+01  1.247170e+05  7.410000e+02\n",
      "id             0\n",
      "date           0\n",
      "store_nbr      0\n",
      "family         0\n",
      "sales          0\n",
      "onpromotion    0\n",
      "dtype: int64\n",
      "Summary for test DataFrame:\n",
      "        id        date  store_nbr      family  onpromotion\n",
      "0  3000888  2017-08-16          1  AUTOMOTIVE            0\n",
      "1  3000889  2017-08-16          1   BABY CARE            0\n",
      "2  3000890  2017-08-16          1      BEAUTY            2\n",
      "3  3000891  2017-08-16          1   BEVERAGES           20\n",
      "4  3000892  2017-08-16          1       BOOKS            0\n",
      "<class 'pandas.core.frame.DataFrame'>\n",
      "RangeIndex: 28512 entries, 0 to 28511\n",
      "Data columns (total 5 columns):\n",
      " #   Column       Non-Null Count  Dtype \n",
      "---  ------       --------------  ----- \n",
      " 0   id           28512 non-null  int64 \n",
      " 1   date         28512 non-null  object\n",
      " 2   store_nbr    28512 non-null  int64 \n",
      " 3   family       28512 non-null  object\n",
      " 4   onpromotion  28512 non-null  int64 \n",
      "dtypes: int64(3), object(2)\n",
      "memory usage: 1.1+ MB\n",
      "None\n",
      "                 id     store_nbr   onpromotion\n",
      "count  2.851200e+04  28512.000000  28512.000000\n",
      "mean   3.015144e+06     27.500000      6.965383\n",
      "std    8.230850e+03     15.586057     20.683952\n",
      "min    3.000888e+06      1.000000      0.000000\n",
      "25%    3.008016e+06     14.000000      0.000000\n",
      "50%    3.015144e+06     27.500000      0.000000\n",
      "75%    3.022271e+06     41.000000      6.000000\n",
      "max    3.029399e+06     54.000000    646.000000\n",
      "id             0\n",
      "date           0\n",
      "store_nbr      0\n",
      "family         0\n",
      "onpromotion    0\n",
      "dtype: int64\n"
     ]
    }
   ],
   "source": [
    "# Function to analyze datasets\n",
    "def analyze_data(datasets):\n",
    "    for name, dataset in datasets.items():\n",
    "        print(f\"Summary for {name} DataFrame:\")\n",
    "        print(dataset.head())\n",
    "        print(dataset.info())\n",
    "        print(dataset.describe())\n",
    "        print(dataset.isna().sum())\n",
    "\n",
    "analyze_data(datasets)"
   ]
  },
  {
   "cell_type": "markdown",
   "id": "9b0211b8-e269-41f6-b61f-0bd396bd4803",
   "metadata": {},
   "source": [
    "Now that that's out of the way, all data needs to be converted into a numeric fashion, starting with the dates."
   ]
  },
  {
   "cell_type": "code",
   "execution_count": 5,
   "id": "676bade1-4fae-49cf-9c67-e62838d2de11",
   "metadata": {},
   "outputs": [
    {
     "name": "stdout",
     "output_type": "stream",
     "text": [
      "<class 'pandas.core.frame.DataFrame'>\n",
      "RangeIndex: 3000888 entries, 0 to 3000887\n",
      "Data columns (total 8 columns):\n",
      " #   Column       Dtype  \n",
      "---  ------       -----  \n",
      " 0   id           int64  \n",
      " 1   store_nbr    int64  \n",
      " 2   family       object \n",
      " 3   sales        float64\n",
      " 4   onpromotion  int64  \n",
      " 5   year         int32  \n",
      " 6   month        int32  \n",
      " 7   day          int32  \n",
      "dtypes: float64(1), int32(3), int64(3), object(1)\n",
      "memory usage: 148.8+ MB\n"
     ]
    }
   ],
   "source": [
    "# Date extraction for the train DataFrame\n",
    "train['date'] = pd.to_datetime(train['date'])\n",
    "train['year'] = train['date'].dt.year\n",
    "train['month'] = train['date'].dt.month\n",
    "train['day'] = train['date'].dt.day\n",
    "train = train.drop(columns=['date'])\n",
    "\n",
    "# Info on train\n",
    "train.info()"
   ]
  },
  {
   "cell_type": "code",
   "execution_count": 6,
   "id": "fbc1918a-70fc-450d-b97e-6573f0ec3ab9",
   "metadata": {},
   "outputs": [
    {
     "name": "stdout",
     "output_type": "stream",
     "text": [
      "<class 'pandas.core.frame.DataFrame'>\n",
      "RangeIndex: 28512 entries, 0 to 28511\n",
      "Data columns (total 7 columns):\n",
      " #   Column       Non-Null Count  Dtype \n",
      "---  ------       --------------  ----- \n",
      " 0   id           28512 non-null  int64 \n",
      " 1   store_nbr    28512 non-null  int64 \n",
      " 2   family       28512 non-null  object\n",
      " 3   onpromotion  28512 non-null  int64 \n",
      " 4   year         28512 non-null  int32 \n",
      " 5   month        28512 non-null  int32 \n",
      " 6   day          28512 non-null  int32 \n",
      "dtypes: int32(3), int64(3), object(1)\n",
      "memory usage: 1.2+ MB\n"
     ]
    }
   ],
   "source": [
    "# Date extraction for the test DataFrame\n",
    "test['date'] = pd.to_datetime(test['date'])\n",
    "test['year'] = test['date'].dt.year\n",
    "test['month'] = test['date'].dt.month\n",
    "test['day'] = test['date'].dt.day\n",
    "test = test.drop(columns=['date'])\n",
    "\n",
    "# Info on test\n",
    "test.info()"
   ]
  },
  {
   "cell_type": "markdown",
   "id": "267724dc-06b1-47bc-bc4a-b9bc375c838f",
   "metadata": {},
   "source": [
    "Now that all the date values have been splitted into year, month and day, and are in a numeric format, the other object values need to be converted."
   ]
  },
  {
   "cell_type": "code",
   "execution_count": 7,
   "id": "2522ad95-bee0-4a98-84c1-77a5bfa80e86",
   "metadata": {},
   "outputs": [
    {
     "name": "stdout",
     "output_type": "stream",
     "text": [
      "<class 'pandas.core.frame.DataFrame'>\n",
      "RangeIndex: 3000888 entries, 0 to 3000887\n",
      "Data columns (total 8 columns):\n",
      " #   Column       Dtype  \n",
      "---  ------       -----  \n",
      " 0   id           int64  \n",
      " 1   store_nbr    int64  \n",
      " 2   family       int32  \n",
      " 3   sales        float64\n",
      " 4   onpromotion  int64  \n",
      " 5   year         int32  \n",
      " 6   month        int32  \n",
      " 7   day          int32  \n",
      "dtypes: float64(1), int32(4), int64(3)\n",
      "memory usage: 137.4 MB\n"
     ]
    }
   ],
   "source": [
    "# Preprocessing the family column in train\n",
    "train.family = train.family.astype(\"category\")\n",
    "encoder = LabelEncoder()\n",
    "train.family = encoder.fit_transform(train.family)\n",
    "train.info()"
   ]
  },
  {
   "cell_type": "code",
   "execution_count": 8,
   "id": "8dd1ec58-854a-422b-8ecd-6a726d80a74f",
   "metadata": {},
   "outputs": [
    {
     "name": "stdout",
     "output_type": "stream",
     "text": [
      "<class 'pandas.core.frame.DataFrame'>\n",
      "RangeIndex: 28512 entries, 0 to 28511\n",
      "Data columns (total 7 columns):\n",
      " #   Column       Non-Null Count  Dtype\n",
      "---  ------       --------------  -----\n",
      " 0   id           28512 non-null  int64\n",
      " 1   store_nbr    28512 non-null  int64\n",
      " 2   family       28512 non-null  int32\n",
      " 3   onpromotion  28512 non-null  int64\n",
      " 4   year         28512 non-null  int32\n",
      " 5   month        28512 non-null  int32\n",
      " 6   day          28512 non-null  int32\n",
      "dtypes: int32(4), int64(3)\n",
      "memory usage: 1.1 MB\n"
     ]
    }
   ],
   "source": [
    "# Test preprocessing\n",
    "test.family = test.family.astype(\"category\")\n",
    "test.family = encoder.fit_transform(test.family)\n",
    "test.info()"
   ]
  },
  {
   "cell_type": "markdown",
   "id": "50b6094d-4217-49ea-b7b8-fe51771441f3",
   "metadata": {},
   "source": [
    "So, since of all of the data is in an numeric fashion, the next step to build a model."
   ]
  },
  {
   "cell_type": "markdown",
   "id": "e3cb64c4-b3dd-4c4f-8e34-0fb9f2421622",
   "metadata": {},
   "source": [
    "# 4. Modelling"
   ]
  },
  {
   "cell_type": "code",
   "execution_count": 9,
   "id": "430c80f8-b53b-4282-a3a1-05079f5a9f5d",
   "metadata": {},
   "outputs": [],
   "source": [
    "# Data splitting into training and validation sets\n",
    "X = train.drop(\"sales\", axis = 1)\n",
    "y = train.sales\n",
    "\n",
    "X_train, X_valid, y_train, y_valid = train_test_split(X,y,test_size = 0.2, random_state = 42)"
   ]
  },
  {
   "cell_type": "code",
   "execution_count": 10,
   "id": "fd24d304-6a58-4754-ab3a-83ee89a6623b",
   "metadata": {},
   "outputs": [
    {
     "data": {
      "text/plain": [
       "((2400710, 7), (600178, 7), (2400710,), (600178,))"
      ]
     },
     "execution_count": 10,
     "metadata": {},
     "output_type": "execute_result"
    }
   ],
   "source": [
    "# Checking shape\n",
    "X_train.shape, X_valid.shape, y_train.shape, y_valid.shape"
   ]
  },
  {
   "cell_type": "code",
   "execution_count": 11,
   "id": "f2af318b-7cb7-441c-8514-e2755ce98dae",
   "metadata": {},
   "outputs": [],
   "source": [
    "# Function to calculate the root mean squared log error\n",
    "def rmsle(y_test, y_pred):\n",
    "    return np.sqrt(mean_squared_log_error(y_test, y_pred))"
   ]
  },
  {
   "cell_type": "code",
   "execution_count": 12,
   "id": "91d842a8-9349-4199-b74c-32f39aef5199",
   "metadata": {},
   "outputs": [
    {
     "data": {
      "text/html": [
       "<style>#sk-container-id-1 {color: black;}#sk-container-id-1 pre{padding: 0;}#sk-container-id-1 div.sk-toggleable {background-color: white;}#sk-container-id-1 label.sk-toggleable__label {cursor: pointer;display: block;width: 100%;margin-bottom: 0;padding: 0.3em;box-sizing: border-box;text-align: center;}#sk-container-id-1 label.sk-toggleable__label-arrow:before {content: \"▸\";float: left;margin-right: 0.25em;color: #696969;}#sk-container-id-1 label.sk-toggleable__label-arrow:hover:before {color: black;}#sk-container-id-1 div.sk-estimator:hover label.sk-toggleable__label-arrow:before {color: black;}#sk-container-id-1 div.sk-toggleable__content {max-height: 0;max-width: 0;overflow: hidden;text-align: left;background-color: #f0f8ff;}#sk-container-id-1 div.sk-toggleable__content pre {margin: 0.2em;color: black;border-radius: 0.25em;background-color: #f0f8ff;}#sk-container-id-1 input.sk-toggleable__control:checked~div.sk-toggleable__content {max-height: 200px;max-width: 100%;overflow: auto;}#sk-container-id-1 input.sk-toggleable__control:checked~label.sk-toggleable__label-arrow:before {content: \"▾\";}#sk-container-id-1 div.sk-estimator input.sk-toggleable__control:checked~label.sk-toggleable__label {background-color: #d4ebff;}#sk-container-id-1 div.sk-label input.sk-toggleable__control:checked~label.sk-toggleable__label {background-color: #d4ebff;}#sk-container-id-1 input.sk-hidden--visually {border: 0;clip: rect(1px 1px 1px 1px);clip: rect(1px, 1px, 1px, 1px);height: 1px;margin: -1px;overflow: hidden;padding: 0;position: absolute;width: 1px;}#sk-container-id-1 div.sk-estimator {font-family: monospace;background-color: #f0f8ff;border: 1px dotted black;border-radius: 0.25em;box-sizing: border-box;margin-bottom: 0.5em;}#sk-container-id-1 div.sk-estimator:hover {background-color: #d4ebff;}#sk-container-id-1 div.sk-parallel-item::after {content: \"\";width: 100%;border-bottom: 1px solid gray;flex-grow: 1;}#sk-container-id-1 div.sk-label:hover label.sk-toggleable__label {background-color: #d4ebff;}#sk-container-id-1 div.sk-serial::before {content: \"\";position: absolute;border-left: 1px solid gray;box-sizing: border-box;top: 0;bottom: 0;left: 50%;z-index: 0;}#sk-container-id-1 div.sk-serial {display: flex;flex-direction: column;align-items: center;background-color: white;padding-right: 0.2em;padding-left: 0.2em;position: relative;}#sk-container-id-1 div.sk-item {position: relative;z-index: 1;}#sk-container-id-1 div.sk-parallel {display: flex;align-items: stretch;justify-content: center;background-color: white;position: relative;}#sk-container-id-1 div.sk-item::before, #sk-container-id-1 div.sk-parallel-item::before {content: \"\";position: absolute;border-left: 1px solid gray;box-sizing: border-box;top: 0;bottom: 0;left: 50%;z-index: -1;}#sk-container-id-1 div.sk-parallel-item {display: flex;flex-direction: column;z-index: 1;position: relative;background-color: white;}#sk-container-id-1 div.sk-parallel-item:first-child::after {align-self: flex-end;width: 50%;}#sk-container-id-1 div.sk-parallel-item:last-child::after {align-self: flex-start;width: 50%;}#sk-container-id-1 div.sk-parallel-item:only-child::after {width: 0;}#sk-container-id-1 div.sk-dashed-wrapped {border: 1px dashed gray;margin: 0 0.4em 0.5em 0.4em;box-sizing: border-box;padding-bottom: 0.4em;background-color: white;}#sk-container-id-1 div.sk-label label {font-family: monospace;font-weight: bold;display: inline-block;line-height: 1.2em;}#sk-container-id-1 div.sk-label-container {text-align: center;}#sk-container-id-1 div.sk-container {/* jupyter's `normalize.less` sets `[hidden] { display: none; }` but bootstrap.min.css set `[hidden] { display: none !important; }` so we also need the `!important` here to be able to override the default hidden behavior on the sphinx rendered scikit-learn.org. See: https://github.com/scikit-learn/scikit-learn/issues/21755 */display: inline-block !important;position: relative;}#sk-container-id-1 div.sk-text-repr-fallback {display: none;}</style><div id=\"sk-container-id-1\" class=\"sk-top-container\"><div class=\"sk-text-repr-fallback\"><pre>SGDRegressor(early_stopping=True, max_iter=1500)</pre><b>In a Jupyter environment, please rerun this cell to show the HTML representation or trust the notebook. <br />On GitHub, the HTML representation is unable to render, please try loading this page with nbviewer.org.</b></div><div class=\"sk-container\" hidden><div class=\"sk-item\"><div class=\"sk-estimator sk-toggleable\"><input class=\"sk-toggleable__control sk-hidden--visually\" id=\"sk-estimator-id-1\" type=\"checkbox\" checked><label for=\"sk-estimator-id-1\" class=\"sk-toggleable__label sk-toggleable__label-arrow\">SGDRegressor</label><div class=\"sk-toggleable__content\"><pre>SGDRegressor(early_stopping=True, max_iter=1500)</pre></div></div></div></div></div>"
      ],
      "text/plain": [
       "SGDRegressor(early_stopping=True, max_iter=1500)"
      ]
     },
     "execution_count": 12,
     "metadata": {},
     "output_type": "execute_result"
    }
   ],
   "source": [
    "# Building a model\n",
    "model = SGDRegressor(max_iter = 1500, early_stopping = True)\n",
    "model.fit(X_train, y_train)"
   ]
  },
  {
   "cell_type": "code",
   "execution_count": 13,
   "id": "85f9c041-8cf6-4dd7-a0d1-45b951e01a53",
   "metadata": {},
   "outputs": [],
   "source": [
    "# Function for scoring\n",
    "def score(model):\n",
    "  train_preds = model.predict(X_train)\n",
    "  val_preds = model.predict(X_valid)\n",
    "  train_preds = np.abs(train_preds)\n",
    "  val_preds = np.abs(val_preds)\n",
    "  print(\"Training RMSLE: \", rmsle(y_train, train_preds))\n",
    "  print(\"Validation RMSLE: \", rmsle(y_valid, val_preds))"
   ]
  },
  {
   "cell_type": "code",
   "execution_count": 14,
   "id": "f136c9af-2289-4868-bfd5-7496cd8bb027",
   "metadata": {},
   "outputs": [
    {
     "name": "stdout",
     "output_type": "stream",
     "text": [
      "Training RMSLE:  43.27863133127154\n",
      "Validation RMSLE:  43.28098978846873\n"
     ]
    }
   ],
   "source": [
    "score(model)"
   ]
  },
  {
   "cell_type": "markdown",
   "id": "ea5735a9-77ac-4db9-a647-c9a037e97fc5",
   "metadata": {},
   "source": [
    "The training and validation RMSLE are pretty close, so that means that the model is doing a good job."
   ]
  },
  {
   "cell_type": "markdown",
   "id": "9995110a-3658-497d-b231-b32d4189d683",
   "metadata": {},
   "source": [
    "# 5. Tuning and remodelling\n",
    "Hyperparameters will be tuned using both RandomizedSearchCV and GridSearchCV, and a new and improved model will be built."
   ]
  },
  {
   "cell_type": "code",
   "execution_count": 15,
   "id": "64fcf677-a78c-4520-b928-2a1010412faa",
   "metadata": {},
   "outputs": [
    {
     "name": "stdout",
     "output_type": "stream",
     "text": [
      "Fitting 5 folds for each of 50 candidates, totalling 250 fits\n"
     ]
    },
    {
     "data": {
      "text/html": [
       "<style>#sk-container-id-2 {color: black;}#sk-container-id-2 pre{padding: 0;}#sk-container-id-2 div.sk-toggleable {background-color: white;}#sk-container-id-2 label.sk-toggleable__label {cursor: pointer;display: block;width: 100%;margin-bottom: 0;padding: 0.3em;box-sizing: border-box;text-align: center;}#sk-container-id-2 label.sk-toggleable__label-arrow:before {content: \"▸\";float: left;margin-right: 0.25em;color: #696969;}#sk-container-id-2 label.sk-toggleable__label-arrow:hover:before {color: black;}#sk-container-id-2 div.sk-estimator:hover label.sk-toggleable__label-arrow:before {color: black;}#sk-container-id-2 div.sk-toggleable__content {max-height: 0;max-width: 0;overflow: hidden;text-align: left;background-color: #f0f8ff;}#sk-container-id-2 div.sk-toggleable__content pre {margin: 0.2em;color: black;border-radius: 0.25em;background-color: #f0f8ff;}#sk-container-id-2 input.sk-toggleable__control:checked~div.sk-toggleable__content {max-height: 200px;max-width: 100%;overflow: auto;}#sk-container-id-2 input.sk-toggleable__control:checked~label.sk-toggleable__label-arrow:before {content: \"▾\";}#sk-container-id-2 div.sk-estimator input.sk-toggleable__control:checked~label.sk-toggleable__label {background-color: #d4ebff;}#sk-container-id-2 div.sk-label input.sk-toggleable__control:checked~label.sk-toggleable__label {background-color: #d4ebff;}#sk-container-id-2 input.sk-hidden--visually {border: 0;clip: rect(1px 1px 1px 1px);clip: rect(1px, 1px, 1px, 1px);height: 1px;margin: -1px;overflow: hidden;padding: 0;position: absolute;width: 1px;}#sk-container-id-2 div.sk-estimator {font-family: monospace;background-color: #f0f8ff;border: 1px dotted black;border-radius: 0.25em;box-sizing: border-box;margin-bottom: 0.5em;}#sk-container-id-2 div.sk-estimator:hover {background-color: #d4ebff;}#sk-container-id-2 div.sk-parallel-item::after {content: \"\";width: 100%;border-bottom: 1px solid gray;flex-grow: 1;}#sk-container-id-2 div.sk-label:hover label.sk-toggleable__label {background-color: #d4ebff;}#sk-container-id-2 div.sk-serial::before {content: \"\";position: absolute;border-left: 1px solid gray;box-sizing: border-box;top: 0;bottom: 0;left: 50%;z-index: 0;}#sk-container-id-2 div.sk-serial {display: flex;flex-direction: column;align-items: center;background-color: white;padding-right: 0.2em;padding-left: 0.2em;position: relative;}#sk-container-id-2 div.sk-item {position: relative;z-index: 1;}#sk-container-id-2 div.sk-parallel {display: flex;align-items: stretch;justify-content: center;background-color: white;position: relative;}#sk-container-id-2 div.sk-item::before, #sk-container-id-2 div.sk-parallel-item::before {content: \"\";position: absolute;border-left: 1px solid gray;box-sizing: border-box;top: 0;bottom: 0;left: 50%;z-index: -1;}#sk-container-id-2 div.sk-parallel-item {display: flex;flex-direction: column;z-index: 1;position: relative;background-color: white;}#sk-container-id-2 div.sk-parallel-item:first-child::after {align-self: flex-end;width: 50%;}#sk-container-id-2 div.sk-parallel-item:last-child::after {align-self: flex-start;width: 50%;}#sk-container-id-2 div.sk-parallel-item:only-child::after {width: 0;}#sk-container-id-2 div.sk-dashed-wrapped {border: 1px dashed gray;margin: 0 0.4em 0.5em 0.4em;box-sizing: border-box;padding-bottom: 0.4em;background-color: white;}#sk-container-id-2 div.sk-label label {font-family: monospace;font-weight: bold;display: inline-block;line-height: 1.2em;}#sk-container-id-2 div.sk-label-container {text-align: center;}#sk-container-id-2 div.sk-container {/* jupyter's `normalize.less` sets `[hidden] { display: none; }` but bootstrap.min.css set `[hidden] { display: none !important; }` so we also need the `!important` here to be able to override the default hidden behavior on the sphinx rendered scikit-learn.org. See: https://github.com/scikit-learn/scikit-learn/issues/21755 */display: inline-block !important;position: relative;}#sk-container-id-2 div.sk-text-repr-fallback {display: none;}</style><div id=\"sk-container-id-2\" class=\"sk-top-container\"><div class=\"sk-text-repr-fallback\"><pre>RandomizedSearchCV(cv=5,\n",
       "                   estimator=SGDRegressor(early_stopping=True, max_iter=1500),\n",
       "                   n_iter=50,\n",
       "                   param_distributions={&#x27;alpha&#x27;: array([1.00000000e-06, 1.14975700e-06, 1.32194115e-06, 1.51991108e-06,\n",
       "       1.74752840e-06, 2.00923300e-06, 2.31012970e-06, 2.65608778e-06,\n",
       "       3.05385551e-06, 3.51119173e-06, 4.03701726e-06, 4.64158883e-06,\n",
       "       5.33669923e-06, 6.13590727e-06, 7.05480231e-...\n",
       "       2.15443469e-01, 2.47707636e-01, 2.84803587e-01, 3.27454916e-01,\n",
       "       3.76493581e-01, 4.32876128e-01, 4.97702356e-01, 5.72236766e-01,\n",
       "       6.57933225e-01, 7.56463328e-01, 8.69749003e-01, 1.00000000e+00]),\n",
       "                                        &#x27;epsilon&#x27;: array([0.  , 0.01, 0.02, 0.03, 0.04, 0.05, 0.06, 0.07, 0.08, 0.09]),\n",
       "                                        &#x27;l1_ratio&#x27;: array([0. , 0.1, 0.2, 0.3, 0.4, 0.5, 0.6, 0.7, 0.8, 0.9, 1. ]),\n",
       "                                        &#x27;max_iter&#x27;: array([ 100,  200,  300,  400,  500,  600,  700,  800,  900, 1000])},\n",
       "                   verbose=1)</pre><b>In a Jupyter environment, please rerun this cell to show the HTML representation or trust the notebook. <br />On GitHub, the HTML representation is unable to render, please try loading this page with nbviewer.org.</b></div><div class=\"sk-container\" hidden><div class=\"sk-item sk-dashed-wrapped\"><div class=\"sk-label-container\"><div class=\"sk-label sk-toggleable\"><input class=\"sk-toggleable__control sk-hidden--visually\" id=\"sk-estimator-id-2\" type=\"checkbox\" ><label for=\"sk-estimator-id-2\" class=\"sk-toggleable__label sk-toggleable__label-arrow\">RandomizedSearchCV</label><div class=\"sk-toggleable__content\"><pre>RandomizedSearchCV(cv=5,\n",
       "                   estimator=SGDRegressor(early_stopping=True, max_iter=1500),\n",
       "                   n_iter=50,\n",
       "                   param_distributions={&#x27;alpha&#x27;: array([1.00000000e-06, 1.14975700e-06, 1.32194115e-06, 1.51991108e-06,\n",
       "       1.74752840e-06, 2.00923300e-06, 2.31012970e-06, 2.65608778e-06,\n",
       "       3.05385551e-06, 3.51119173e-06, 4.03701726e-06, 4.64158883e-06,\n",
       "       5.33669923e-06, 6.13590727e-06, 7.05480231e-...\n",
       "       2.15443469e-01, 2.47707636e-01, 2.84803587e-01, 3.27454916e-01,\n",
       "       3.76493581e-01, 4.32876128e-01, 4.97702356e-01, 5.72236766e-01,\n",
       "       6.57933225e-01, 7.56463328e-01, 8.69749003e-01, 1.00000000e+00]),\n",
       "                                        &#x27;epsilon&#x27;: array([0.  , 0.01, 0.02, 0.03, 0.04, 0.05, 0.06, 0.07, 0.08, 0.09]),\n",
       "                                        &#x27;l1_ratio&#x27;: array([0. , 0.1, 0.2, 0.3, 0.4, 0.5, 0.6, 0.7, 0.8, 0.9, 1. ]),\n",
       "                                        &#x27;max_iter&#x27;: array([ 100,  200,  300,  400,  500,  600,  700,  800,  900, 1000])},\n",
       "                   verbose=1)</pre></div></div></div><div class=\"sk-parallel\"><div class=\"sk-parallel-item\"><div class=\"sk-item\"><div class=\"sk-label-container\"><div class=\"sk-label sk-toggleable\"><input class=\"sk-toggleable__control sk-hidden--visually\" id=\"sk-estimator-id-3\" type=\"checkbox\" ><label for=\"sk-estimator-id-3\" class=\"sk-toggleable__label sk-toggleable__label-arrow\">estimator: SGDRegressor</label><div class=\"sk-toggleable__content\"><pre>SGDRegressor(early_stopping=True, max_iter=1500)</pre></div></div></div><div class=\"sk-serial\"><div class=\"sk-item\"><div class=\"sk-estimator sk-toggleable\"><input class=\"sk-toggleable__control sk-hidden--visually\" id=\"sk-estimator-id-4\" type=\"checkbox\" ><label for=\"sk-estimator-id-4\" class=\"sk-toggleable__label sk-toggleable__label-arrow\">SGDRegressor</label><div class=\"sk-toggleable__content\"><pre>SGDRegressor(early_stopping=True, max_iter=1500)</pre></div></div></div></div></div></div></div></div></div></div>"
      ],
      "text/plain": [
       "RandomizedSearchCV(cv=5,\n",
       "                   estimator=SGDRegressor(early_stopping=True, max_iter=1500),\n",
       "                   n_iter=50,\n",
       "                   param_distributions={'alpha': array([1.00000000e-06, 1.14975700e-06, 1.32194115e-06, 1.51991108e-06,\n",
       "       1.74752840e-06, 2.00923300e-06, 2.31012970e-06, 2.65608778e-06,\n",
       "       3.05385551e-06, 3.51119173e-06, 4.03701726e-06, 4.64158883e-06,\n",
       "       5.33669923e-06, 6.13590727e-06, 7.05480231e-...\n",
       "       2.15443469e-01, 2.47707636e-01, 2.84803587e-01, 3.27454916e-01,\n",
       "       3.76493581e-01, 4.32876128e-01, 4.97702356e-01, 5.72236766e-01,\n",
       "       6.57933225e-01, 7.56463328e-01, 8.69749003e-01, 1.00000000e+00]),\n",
       "                                        'epsilon': array([0.  , 0.01, 0.02, 0.03, 0.04, 0.05, 0.06, 0.07, 0.08, 0.09]),\n",
       "                                        'l1_ratio': array([0. , 0.1, 0.2, 0.3, 0.4, 0.5, 0.6, 0.7, 0.8, 0.9, 1. ]),\n",
       "                                        'max_iter': array([ 100,  200,  300,  400,  500,  600,  700,  800,  900, 1000])},\n",
       "                   verbose=1)"
      ]
     },
     "execution_count": 15,
     "metadata": {},
     "output_type": "execute_result"
    }
   ],
   "source": [
    "# Parameter grid for SGDRegressor\n",
    "sgd_grid = {\n",
    "    \"max_iter\": np.arange(100, 1001, 100),  # Adjusted range and step size\n",
    "    \"alpha\": np.logspace(-6, 0, 100),  # Using a logarithmic scale for alpha\n",
    "    \"l1_ratio\": np.arange(0, 1.1, 0.1),  # Adjusted range and step size\n",
    "    \"epsilon\": np.arange(0, 0.1, 0.01)  # Adjusted range and step size\n",
    "}\n",
    "\n",
    "# Using RandomizedSearchCV\n",
    "reg = RandomizedSearchCV(model, param_distributions=sgd_grid, n_iter=50, cv=5, verbose=1)\n",
    "reg.fit(X_train, y_train)"
   ]
  },
  {
   "cell_type": "code",
   "execution_count": 16,
   "id": "aef203ba-d722-4ec5-9840-a99b56f0fe5e",
   "metadata": {},
   "outputs": [
    {
     "data": {
      "text/plain": [
       "{'max_iter': 1000,\n",
       " 'l1_ratio': 0.5,\n",
       " 'epsilon': 0.09,\n",
       " 'alpha': 0.2848035868435805}"
      ]
     },
     "execution_count": 16,
     "metadata": {},
     "output_type": "execute_result"
    }
   ],
   "source": [
    "# Checking the best parameters\n",
    "reg.best_params_"
   ]
  },
  {
   "cell_type": "code",
   "execution_count": 17,
   "id": "adb72114-b77a-488e-ba09-fb65c0fcbcb7",
   "metadata": {},
   "outputs": [
    {
     "name": "stderr",
     "output_type": "stream",
     "text": [
      "C:\\Users\\user\\miniconda3\\Lib\\site-packages\\sklearn\\linear_model\\_stochastic_gradient.py:1561: ConvergenceWarning: Maximum number of iteration reached before convergence. Consider increasing max_iter to improve the fit.\n",
      "  warnings.warn(\n"
     ]
    },
    {
     "data": {
      "text/html": [
       "<style>#sk-container-id-3 {color: black;}#sk-container-id-3 pre{padding: 0;}#sk-container-id-3 div.sk-toggleable {background-color: white;}#sk-container-id-3 label.sk-toggleable__label {cursor: pointer;display: block;width: 100%;margin-bottom: 0;padding: 0.3em;box-sizing: border-box;text-align: center;}#sk-container-id-3 label.sk-toggleable__label-arrow:before {content: \"▸\";float: left;margin-right: 0.25em;color: #696969;}#sk-container-id-3 label.sk-toggleable__label-arrow:hover:before {color: black;}#sk-container-id-3 div.sk-estimator:hover label.sk-toggleable__label-arrow:before {color: black;}#sk-container-id-3 div.sk-toggleable__content {max-height: 0;max-width: 0;overflow: hidden;text-align: left;background-color: #f0f8ff;}#sk-container-id-3 div.sk-toggleable__content pre {margin: 0.2em;color: black;border-radius: 0.25em;background-color: #f0f8ff;}#sk-container-id-3 input.sk-toggleable__control:checked~div.sk-toggleable__content {max-height: 200px;max-width: 100%;overflow: auto;}#sk-container-id-3 input.sk-toggleable__control:checked~label.sk-toggleable__label-arrow:before {content: \"▾\";}#sk-container-id-3 div.sk-estimator input.sk-toggleable__control:checked~label.sk-toggleable__label {background-color: #d4ebff;}#sk-container-id-3 div.sk-label input.sk-toggleable__control:checked~label.sk-toggleable__label {background-color: #d4ebff;}#sk-container-id-3 input.sk-hidden--visually {border: 0;clip: rect(1px 1px 1px 1px);clip: rect(1px, 1px, 1px, 1px);height: 1px;margin: -1px;overflow: hidden;padding: 0;position: absolute;width: 1px;}#sk-container-id-3 div.sk-estimator {font-family: monospace;background-color: #f0f8ff;border: 1px dotted black;border-radius: 0.25em;box-sizing: border-box;margin-bottom: 0.5em;}#sk-container-id-3 div.sk-estimator:hover {background-color: #d4ebff;}#sk-container-id-3 div.sk-parallel-item::after {content: \"\";width: 100%;border-bottom: 1px solid gray;flex-grow: 1;}#sk-container-id-3 div.sk-label:hover label.sk-toggleable__label {background-color: #d4ebff;}#sk-container-id-3 div.sk-serial::before {content: \"\";position: absolute;border-left: 1px solid gray;box-sizing: border-box;top: 0;bottom: 0;left: 50%;z-index: 0;}#sk-container-id-3 div.sk-serial {display: flex;flex-direction: column;align-items: center;background-color: white;padding-right: 0.2em;padding-left: 0.2em;position: relative;}#sk-container-id-3 div.sk-item {position: relative;z-index: 1;}#sk-container-id-3 div.sk-parallel {display: flex;align-items: stretch;justify-content: center;background-color: white;position: relative;}#sk-container-id-3 div.sk-item::before, #sk-container-id-3 div.sk-parallel-item::before {content: \"\";position: absolute;border-left: 1px solid gray;box-sizing: border-box;top: 0;bottom: 0;left: 50%;z-index: -1;}#sk-container-id-3 div.sk-parallel-item {display: flex;flex-direction: column;z-index: 1;position: relative;background-color: white;}#sk-container-id-3 div.sk-parallel-item:first-child::after {align-self: flex-end;width: 50%;}#sk-container-id-3 div.sk-parallel-item:last-child::after {align-self: flex-start;width: 50%;}#sk-container-id-3 div.sk-parallel-item:only-child::after {width: 0;}#sk-container-id-3 div.sk-dashed-wrapped {border: 1px dashed gray;margin: 0 0.4em 0.5em 0.4em;box-sizing: border-box;padding-bottom: 0.4em;background-color: white;}#sk-container-id-3 div.sk-label label {font-family: monospace;font-weight: bold;display: inline-block;line-height: 1.2em;}#sk-container-id-3 div.sk-label-container {text-align: center;}#sk-container-id-3 div.sk-container {/* jupyter's `normalize.less` sets `[hidden] { display: none; }` but bootstrap.min.css set `[hidden] { display: none !important; }` so we also need the `!important` here to be able to override the default hidden behavior on the sphinx rendered scikit-learn.org. See: https://github.com/scikit-learn/scikit-learn/issues/21755 */display: inline-block !important;position: relative;}#sk-container-id-3 div.sk-text-repr-fallback {display: none;}</style><div id=\"sk-container-id-3\" class=\"sk-top-container\"><div class=\"sk-text-repr-fallback\"><pre>SGDRegressor(alpha=0.43287612810830617, epsilon=0.06,\n",
       "             l1_ratio=0.30000000000000004, max_iter=100)</pre><b>In a Jupyter environment, please rerun this cell to show the HTML representation or trust the notebook. <br />On GitHub, the HTML representation is unable to render, please try loading this page with nbviewer.org.</b></div><div class=\"sk-container\" hidden><div class=\"sk-item\"><div class=\"sk-estimator sk-toggleable\"><input class=\"sk-toggleable__control sk-hidden--visually\" id=\"sk-estimator-id-5\" type=\"checkbox\" checked><label for=\"sk-estimator-id-5\" class=\"sk-toggleable__label sk-toggleable__label-arrow\">SGDRegressor</label><div class=\"sk-toggleable__content\"><pre>SGDRegressor(alpha=0.43287612810830617, epsilon=0.06,\n",
       "             l1_ratio=0.30000000000000004, max_iter=100)</pre></div></div></div></div></div>"
      ],
      "text/plain": [
       "SGDRegressor(alpha=0.43287612810830617, epsilon=0.06,\n",
       "             l1_ratio=0.30000000000000004, max_iter=100)"
      ]
     },
     "execution_count": 17,
     "metadata": {},
     "output_type": "execute_result"
    }
   ],
   "source": [
    "# Retesting\n",
    "tuned_reg = SGDRegressor(max_iter = 100, l1_ratio = 0.30000000000000004, epsilon = 0.06, alpha = 0.43287612810830617)\n",
    "tuned_reg.fit(X_train, y_train)"
   ]
  },
  {
   "cell_type": "code",
   "execution_count": 18,
   "id": "0eb7ed13-3636-41b7-88ef-87907c64eddf",
   "metadata": {},
   "outputs": [
    {
     "name": "stdout",
     "output_type": "stream",
     "text": [
      "Training RMSLE:  40.87485041337504\n",
      "Validation RMSLE:  40.877198299588386\n"
     ]
    }
   ],
   "source": [
    "# Scoring\n",
    "score(tuned_reg)"
   ]
  },
  {
   "cell_type": "markdown",
   "id": "214a7ec0-6de0-452f-b54b-8027166a7c59",
   "metadata": {},
   "source": [
    "The next step is to test the tuned model in the test dataset."
   ]
  },
  {
   "cell_type": "markdown",
   "id": "d251e161-ba14-4050-a2b7-f66d8f0a0d30",
   "metadata": {},
   "source": [
    "# 6. Making predictions on the test dataset"
   ]
  },
  {
   "cell_type": "code",
   "execution_count": 19,
   "id": "50bff372-8acc-4b75-be43-1798139904cf",
   "metadata": {},
   "outputs": [
    {
     "data": {
      "text/plain": [
       "array([2.62852726e+19, 2.62852815e+19, 2.62852903e+19, ...,\n",
       "       2.65351208e+19, 2.65351293e+19, 2.65351386e+19])"
      ]
     },
     "execution_count": 19,
     "metadata": {},
     "output_type": "execute_result"
    }
   ],
   "source": [
    "test_preds = tuned_reg.predict(test)\n",
    "test_preds"
   ]
  },
  {
   "cell_type": "code",
   "execution_count": 20,
   "id": "4c6f59e0-97a3-4b8d-9882-51de1dadff17",
   "metadata": {},
   "outputs": [
    {
     "data": {
      "text/html": [
       "<div>\n",
       "<style scoped>\n",
       "    .dataframe tbody tr th:only-of-type {\n",
       "        vertical-align: middle;\n",
       "    }\n",
       "\n",
       "    .dataframe tbody tr th {\n",
       "        vertical-align: top;\n",
       "    }\n",
       "\n",
       "    .dataframe thead th {\n",
       "        text-align: right;\n",
       "    }\n",
       "</style>\n",
       "<table border=\"1\" class=\"dataframe\">\n",
       "  <thead>\n",
       "    <tr style=\"text-align: right;\">\n",
       "      <th></th>\n",
       "      <th>id</th>\n",
       "      <th>sales</th>\n",
       "    </tr>\n",
       "  </thead>\n",
       "  <tbody>\n",
       "    <tr>\n",
       "      <th>0</th>\n",
       "      <td>3000888</td>\n",
       "      <td>2.628527e+19</td>\n",
       "    </tr>\n",
       "    <tr>\n",
       "      <th>1</th>\n",
       "      <td>3000889</td>\n",
       "      <td>2.628528e+19</td>\n",
       "    </tr>\n",
       "    <tr>\n",
       "      <th>2</th>\n",
       "      <td>3000890</td>\n",
       "      <td>2.628529e+19</td>\n",
       "    </tr>\n",
       "    <tr>\n",
       "      <th>3</th>\n",
       "      <td>3000891</td>\n",
       "      <td>2.628530e+19</td>\n",
       "    </tr>\n",
       "    <tr>\n",
       "      <th>4</th>\n",
       "      <td>3000892</td>\n",
       "      <td>2.628531e+19</td>\n",
       "    </tr>\n",
       "  </tbody>\n",
       "</table>\n",
       "</div>"
      ],
      "text/plain": [
       "        id         sales\n",
       "0  3000888  2.628527e+19\n",
       "1  3000889  2.628528e+19\n",
       "2  3000890  2.628529e+19\n",
       "3  3000891  2.628530e+19\n",
       "4  3000892  2.628531e+19"
      ]
     },
     "execution_count": 20,
     "metadata": {},
     "output_type": "execute_result"
    }
   ],
   "source": [
    "# Making a predictions DataFrame\n",
    "df_preds = pd.DataFrame()\n",
    "df_preds[\"id\"] = test.id\n",
    "df_preds[\"sales\"] = test_preds\n",
    "df_preds.head()"
   ]
  },
  {
   "cell_type": "code",
   "execution_count": 21,
   "id": "bcdd5ba3-cf69-4b0d-af4c-d96e0d0668d0",
   "metadata": {},
   "outputs": [],
   "source": [
    "# Saving the DataFrame\n",
    "df_preds.to_csv(\"test-predictions.csv\", index = False)"
   ]
  },
  {
   "cell_type": "markdown",
   "id": "60a0ea36-d33d-4f36-92ed-0130cf21f53f",
   "metadata": {},
   "source": [
    "# 7. Feature importance"
   ]
  },
  {
   "cell_type": "code",
   "execution_count": 26,
   "id": "45f9ca18-f957-4047-a9db-b8b46f4062c8",
   "metadata": {},
   "outputs": [],
   "source": [
    "importance = tuned_reg.coef_"
   ]
  },
  {
   "cell_type": "code",
   "execution_count": 28,
   "id": "5eb22588-7d2b-4c56-9999-39e0f133d0de",
   "metadata": {},
   "outputs": [
    {
     "data": {
      "text/plain": [
       "array([ 8.76383463e+12, -3.20821483e+11,  1.46791444e+11, -4.43232277e+10,\n",
       "       -6.94592259e+12, -7.62156560e+10, -1.19600398e+11])"
      ]
     },
     "execution_count": 28,
     "metadata": {},
     "output_type": "execute_result"
    }
   ],
   "source": [
    "# Checking the coefficients\n",
    "importance"
   ]
  },
  {
   "cell_type": "code",
   "execution_count": 31,
   "id": "9b406053-ca27-4fa6-9b42-70e91bcc153e",
   "metadata": {},
   "outputs": [
    {
     "data": {
      "text/plain": [
       "{'id': 8763834626594.404,\n",
       " 'store_nbr': -320821482551.4662,\n",
       " 'family': 146791443789.47928,\n",
       " 'onpromotion': -44323227686.435455,\n",
       " 'year': -6945922588197.796,\n",
       " 'month': -76215655982.79181,\n",
       " 'day': -119600397670.38907}"
      ]
     },
     "execution_count": 31,
     "metadata": {},
     "output_type": "execute_result"
    }
   ],
   "source": [
    "# Match coefficients of features to columns\n",
    "imp_dict = dict(zip(test.columns, list(tuned_reg.coef_)))\n",
    "imp_dict"
   ]
  },
  {
   "cell_type": "code",
   "execution_count": 32,
   "id": "17738326-d581-4da8-b0c2-0896e88e204c",
   "metadata": {},
   "outputs": [
    {
     "data": {
      "image/png": "[encoded data removed]",
      "text/plain": [
       "<Figure size 640x480 with 1 Axes>"
      ]
     },
     "metadata": {},
     "output_type": "display_data"
    }
   ],
   "source": [
    "# Plotting the importances\n",
    "df = pd.DataFrame(imp_dict, index = [0])\n",
    "df.T.plot.bar(title = \"Feature importance\", legend = False);"
   ]
  },
  {
   "cell_type": "markdown",
   "id": "008e954a-00c7-4779-aded-658cbb110290",
   "metadata": {},
   "source": [
    "It's obvious that year and id play a huge role in the sales quantity of products"
   ]
  }
 ],
 "metadata": {
  "kernelspec": {
   "display_name": "Python 3 (ipykernel)",
   "language": "python",
   "name": "python3"
  },
  "language_info": {
   "codemirror_mode": {
    "name": "ipython",
    "version": 3
   },
   "file_extension": ".py",
   "mimetype": "text/x-python",
   "name": "python",
   "nbconvert_exporter": "python",
   "pygments_lexer": "ipython3",
   "version": "3.11.4"
  }
 },
 "nbformat": 4,
 "nbformat_minor": 5
}
